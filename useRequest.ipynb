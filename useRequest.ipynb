{
 "cells": [
  {
   "cell_type": "code",
   "execution_count": 2,
   "metadata": {},
   "outputs": [
    {
     "name": "stdout",
     "output_type": "stream",
     "text": [
      "{'main': {'x': 3, 'y': 2, 'width': 5, 'height': 10}, 'input': [{'x': 4, 'y': 10, 'width': 1, 'height': 1}, {'x': 9, 'y': 10, 'width': 5, 'height': 4}]}\n",
      "[{'x': 4, 'y': 10, 'width': 1, 'height': 1, 'time': '19/10/2023 17:45:34'}]\n"
     ]
    }
   ],
   "source": [
    "import requests\n",
    "\n",
    "url_post = \"http://localhost:9999/\"\n",
    "\n",
    "new_data = {\n",
    "\"main\": {\"x\": 3, \"y\": 2, \"width\": 5, \"height\": 10},\n",
    "\"input\": [\n",
    "{\"x\": 4, \"y\": 10, \"width\": 1, \"height\": 1},\n",
    "{\"x\": 9, \"y\": 10, \"width\": 5, \"height\": 4}\n",
    "]\n",
    "}\n",
    "\n",
    "# A POST request to the API\n",
    "post_response = requests.post(url_post, json=new_data)\n",
    "# Print the response\n",
    "post_response_json = post_response.json()\n",
    "print(post_response_json)\n",
    "\n",
    "\n",
    "# A GET request to the API\n",
    "response = requests.get(url_post)\n",
    "# Print the response\n",
    "response_json = response.json()\n",
    "print(response_json)"
   ]
  }
 ],
 "metadata": {
  "kernelspec": {
   "display_name": "hr311",
   "language": "python",
   "name": "python3"
  },
  "language_info": {
   "codemirror_mode": {
    "name": "ipython",
    "version": 3
   },
   "file_extension": ".py",
   "mimetype": "text/x-python",
   "name": "python",
   "nbconvert_exporter": "python",
   "pygments_lexer": "ipython3",
   "version": "3.11.4"
  },
  "orig_nbformat": 4,
  "vscode": {
   "interpreter": {
    "hash": "856e885fdc8cc6c9cb66a5f51507e9bc9d33bc7b4aad8013099cf071cd86193e"
   }
  }
 },
 "nbformat": 4,
 "nbformat_minor": 2
}
